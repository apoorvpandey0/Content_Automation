{
 "cells": [
  {
   "cell_type": "code",
   "execution_count": 1,
   "metadata": {},
   "outputs": [
    {
     "name": "stdout",
     "output_type": "stream",
     "text": [
      "Transcription:  घर में जुड़वा बच्चे हैं पहले के बेडरूम में एक बंक बेड था की अलमारी और एक स्टडी टेबल बहुत मुश्किल से डाला गया दोनों भाई बारी बारी से ही पढ़ सकते थे और दूसरा दीवार के कोने में बैठा था तब दोनों भाई गुस्से से पूरा बेडरूम तोड़ देते तब पापा ने पूरा बेडरूम फिर से बनाया सबसे पहले मजबूत लोहे से दो बेड स्ट्रक्चर बनाएंगे और साथ में मजबूत पिलर भी लगाएंगे जो बेड को गिरने से रोकेगा और बेड को अच्छे स्क्रू से दीवार में कर देंगे उसके ऊपर अच्छे प्लाई का फ्लोरिंग भी करेंगे और एक आरामदायक गद्दा रखेंगे और साथ में तकिया भी रखेंगे बेड के सामने घेरा भी करेंगे ताकि बच्चे सोते वक्त नीचे ना गिर जाए सिद्धि के रूप में कुछ रक का उपयोग करेंगे जिसमें बच्चों के कपड़े और गंदे मुझे रखेंगे स्टडी एरिया होगा और दूसरे तरफ छोटे बेटे का स्टडी एरिया होगा स्टडी टेबल के बगल में एक और बड़ा रैंक बनाएंगे जिसमें बेड शीट और बच्चों के कपड़े रखेंगे कंप्यूटर रखेंगे पसंद के गेम खेल सके\n"
     ]
    }
   ],
   "source": [
    "import speech_recognition as sr\n",
    "\n",
    "# Initialize the recognizer\n",
    "r = sr.Recognizer()\n",
    "\n",
    "# Load your audio file\n",
    "audio_file = \"audio.wav\"\n",
    "\n",
    "# Use the recognizer to transcribe the audio\n",
    "with sr.AudioFile(audio_file) as source:\n",
    "    audio_data = r.record(source)\n",
    "    # Recognize speech using Google Web Speech API\n",
    "    try:\n",
    "        text = r.recognize_google(audio_data, language='hi-IN')\n",
    "        print(\"Transcription: \", text)\n",
    "    except sr.UnknownValueError:\n",
    "        print(\"Google Web Speech API could not understand audio\")\n",
    "    except sr.RequestError as e:\n",
    "        print(\"Could not request results from Google Web Speech API; {0}\".format(e))\n"
   ]
  },
  {
   "cell_type": "code",
   "execution_count": null,
   "metadata": {},
   "outputs": [],
   "source": []
  }
 ],
 "metadata": {
  "kernelspec": {
   "display_name": "Python 3",
   "language": "python",
   "name": "python3"
  },
  "language_info": {
   "codemirror_mode": {
    "name": "ipython",
    "version": 3
   },
   "file_extension": ".py",
   "mimetype": "text/x-python",
   "name": "python",
   "nbconvert_exporter": "python",
   "pygments_lexer": "ipython3",
   "version": "3.10.6"
  }
 },
 "nbformat": 4,
 "nbformat_minor": 2
}
