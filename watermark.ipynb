{
 "cells": [
  {
   "cell_type": "code",
   "execution_count": 3,
   "metadata": {},
   "outputs": [
    {
     "name": "stdout",
     "output_type": "stream",
     "text": [
      "Moviepy - Building video final_watermarked.mp4.\n",
      "MoviePy - Writing audio in final_watermarkedTEMP_MPY_wvf_snd.mp4\n"
     ]
    },
    {
     "name": "stderr",
     "output_type": "stream",
     "text": [
      "                                                                   \r"
     ]
    },
    {
     "name": "stdout",
     "output_type": "stream",
     "text": [
      "MoviePy - Done.\n",
      "Moviepy - Writing video final_watermarked.mp4\n",
      "\n"
     ]
    },
    {
     "name": "stderr",
     "output_type": "stream",
     "text": [
      "                                                                \r"
     ]
    },
    {
     "name": "stdout",
     "output_type": "stream",
     "text": [
      "Moviepy - Done !\n",
      "Moviepy - video ready final_watermarked.mp4\n"
     ]
    }
   ],
   "source": [
    "import cv2\n",
    "import numpy as np\n",
    "import random\n",
    "from moviepy.editor import VideoFileClip\n",
    "\n",
    "def add_bouncing_watermark(input_video_path, output_video_path, text=\"Your Watermark\", font_scale=1, alpha=0.5):\n",
    "    # Open the video\n",
    "    cap = cv2.VideoCapture(input_video_path)\n",
    "    frame_width = int(cap.get(3))\n",
    "    frame_height = int(cap.get(4))\n",
    "    fps = cap.get(cv2.CAP_PROP_FPS)\n",
    "    \n",
    "    # Define the codec and create a VideoWriter object to save the video\n",
    "    fourcc = cv2.VideoWriter_fourcc(*'mp4v')\n",
    "    out = cv2.VideoWriter(output_video_path, fourcc, 20.0, (frame_width, frame_height))\n",
    "    \n",
    "    # Prepare text properties\n",
    "    font = cv2.FONT_HERSHEY_SIMPLEX\n",
    "    font_thickness = 2\n",
    "    text_size = cv2.getTextSize(text, font, font_scale, font_thickness)[0]\n",
    "    \n",
    "    # Random initial position\n",
    "    text_x = random.randint(0, frame_width - text_size[0])\n",
    "    text_y = random.randint(0, frame_height - text_size[1])\n",
    "    \n",
    "    # Random direction\n",
    "    direction_x = random.choice([-1, 1])\n",
    "    direction_y = random.choice([-1, 1])\n",
    "    step = 5  # Speed of the movement\n",
    "    \n",
    "    # Process each frame\n",
    "    while cap.isOpened():\n",
    "        ret, frame = cap.read()\n",
    "        if not ret:\n",
    "            break\n",
    "        \n",
    "        # Create a transparent overlay for the watermark\n",
    "        overlay = frame.copy()\n",
    "        \n",
    "        # Add text moving across the frame\n",
    "        cv2.putText(overlay, text, (text_x, text_y), font, font_scale, (255, 255, 255), font_thickness)\n",
    "        cv2.addWeighted(overlay, alpha, frame, 1 - alpha, 0, frame)\n",
    "        \n",
    "        # Update the position of the text for the next frame\n",
    "        text_x += step * direction_x\n",
    "        text_y += step * direction_y\n",
    "\n",
    "        # Bounce off the edges\n",
    "        if text_x + text_size[0] > frame_width or text_x < 0:\n",
    "            direction_x *= -1\n",
    "        if text_y + text_size[1] > frame_height or text_y < 0:\n",
    "            direction_y *= -1\n",
    "        \n",
    "        # Write the frame with the watermark to the new video\n",
    "        out.write(frame)\n",
    "    \n",
    "    # Release everything when done\n",
    "    cap.release()\n",
    "    out.release()\n",
    "\n",
    "    # New code to add audio from the input video to the output video\n",
    "    input_video = VideoFileClip(input_video_path)\n",
    "    output_video = VideoFileClip(output_video_path)\n",
    "    final_video = output_video.set_audio(input_video.audio)\n",
    "    final_video.write_videofile(\"final_\" + output_video_path, codec='libx264', audio_codec='aac')\n",
    "\n",
    "\n",
    "# Example usage\n",
    "input_video_path = 'test.mp4'\n",
    "output_video_path = 'watermarked.mp4'\n",
    "add_bouncing_watermark(input_video_path, output_video_path, text=\"Hello World\", font_scale=1, alpha=0.5)\n"
   ]
  },
  {
   "cell_type": "code",
   "execution_count": null,
   "metadata": {},
   "outputs": [],
   "source": []
  }
 ],
 "metadata": {
  "kernelspec": {
   "display_name": "Python 3",
   "language": "python",
   "name": "python3"
  },
  "language_info": {
   "codemirror_mode": {
    "name": "ipython",
    "version": 3
   },
   "file_extension": ".py",
   "mimetype": "text/x-python",
   "name": "python",
   "nbconvert_exporter": "python",
   "pygments_lexer": "ipython3",
   "version": "3.10.6"
  }
 },
 "nbformat": 4,
 "nbformat_minor": 2
}
