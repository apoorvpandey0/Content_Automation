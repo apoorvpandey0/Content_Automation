{
 "cells": [
  {
   "cell_type": "code",
   "execution_count": 2,
   "metadata": {},
   "outputs": [
    {
     "name": "stdout",
     "output_type": "stream",
     "text": [
      "English: if you looked inside of a shotgun shell you see that it's actually divided packed with a smokeless powder and this powder\n",
      "Hindi: यदि आप एक बन्दूक के खोल के अंदर देखते हैं तो आप देखते हैं कि यह वास्तव में एक धूम्रपान रहित पाउडर और इस पाउडर के साथ पैक किया गया है\n",
      "---\n"
     ]
    },
    {
     "ename": "",
     "evalue": "",
     "output_type": "error",
     "traceback": [
      "\u001b[1;31mThe Kernel crashed while executing code in the current cell or a previous cell. \n",
      "\u001b[1;31mPlease review the code in the cell(s) to identify a possible cause of the failure. \n",
      "\u001b[1;31mClick <a href='https://aka.ms/vscodeJupyterKernelCrash'>here</a> for more info. \n",
      "\u001b[1;31mView Jupyter <a href='command:jupyter.viewOutput'>log</a> for further details."
     ]
    }
   ],
   "source": [
    "from googletrans import Translator, LANGUAGES\n",
    "\n",
    "def translate_captions_to_hindi(captions):\n",
    "    translator = Translator()\n",
    "    translated_captions = []\n",
    "    for caption in captions:\n",
    "        # Translate each caption to Hindi\n",
    "        translated = translator.translate(caption, src='en', dest='hi')\n",
    "        translated_captions.append(translated.text)\n",
    "    return translated_captions\n",
    "\n",
    "# Example captions in English\n",
    "english_captions = [\n",
    "\"if you looked inside of a shotgun shell you see that it's actually divided packed with a smokeless powder and this powder\"\n",
    "]\n",
    "\n",
    "# Translate the captions to Hindi\n",
    "hindi_captions = translate_captions_to_hindi(english_captions)\n",
    "\n",
    "# Print the translated captions\n",
    "for i, caption in enumerate(hindi_captions):\n",
    "    print(f\"English: {english_captions[i]}\")\n",
    "    print(f\"Hindi: {caption}\")\n",
    "    print('---')\n"
   ]
  },
  {
   "cell_type": "code",
   "execution_count": null,
   "metadata": {},
   "outputs": [],
   "source": []
  }
 ],
 "metadata": {
  "kernelspec": {
   "display_name": "Python 3",
   "language": "python",
   "name": "python3"
  },
  "language_info": {
   "codemirror_mode": {
    "name": "ipython",
    "version": 3
   },
   "file_extension": ".py",
   "mimetype": "text/x-python",
   "name": "python",
   "nbconvert_exporter": "python",
   "pygments_lexer": "ipython3",
   "version": "3.10.6"
  }
 },
 "nbformat": 4,
 "nbformat_minor": 2
}
