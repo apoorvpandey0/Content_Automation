{
 "cells": [
  {
   "cell_type": "code",
   "execution_count": 8,
   "metadata": {},
   "outputs": [
    {
     "ename": "UnicodeEncodeError",
     "evalue": "'charmap' codec can't encode characters in position 34-35: character maps to <undefined>",
     "output_type": "error",
     "traceback": [
      "\u001b[1;31m---------------------------------------------------------------------------\u001b[0m",
      "\u001b[1;31mUnicodeEncodeError\u001b[0m                        Traceback (most recent call last)",
      "Cell \u001b[1;32mIn[8], line 58\u001b[0m\n\u001b[0;32m     56\u001b[0m \u001b[38;5;66;03m# Write the SRT file\u001b[39;00m\n\u001b[0;32m     57\u001b[0m \u001b[38;5;28;01mwith\u001b[39;00m \u001b[38;5;28mopen\u001b[39m(\u001b[38;5;124m\"\u001b[39m\u001b[38;5;124moutput.txt\u001b[39m\u001b[38;5;124m\"\u001b[39m, \u001b[38;5;124m\"\u001b[39m\u001b[38;5;124mw\u001b[39m\u001b[38;5;124m\"\u001b[39m) \u001b[38;5;28;01mas\u001b[39;00m file:\n\u001b[1;32m---> 58\u001b[0m     \u001b[43mfile\u001b[49m\u001b[38;5;241;43m.\u001b[39;49m\u001b[43mwrite\u001b[49m\u001b[43m(\u001b[49m\u001b[43msrt_file_content\u001b[49m\u001b[43m)\u001b[49m\n\u001b[0;32m     60\u001b[0m \u001b[38;5;28mprint\u001b[39m(\u001b[38;5;124m\"\u001b[39m\u001b[38;5;124mSRT file created successfully.\u001b[39m\u001b[38;5;124m\"\u001b[39m)\n",
      "File \u001b[1;32mc:\\Users\\apoor\\AppData\\Local\\Programs\\Python\\Python310\\lib\\encodings\\cp1252.py:19\u001b[0m, in \u001b[0;36mIncrementalEncoder.encode\u001b[1;34m(self, input, final)\u001b[0m\n\u001b[0;32m     18\u001b[0m \u001b[38;5;28;01mdef\u001b[39;00m \u001b[38;5;21mencode\u001b[39m(\u001b[38;5;28mself\u001b[39m, \u001b[38;5;28minput\u001b[39m, final\u001b[38;5;241m=\u001b[39m\u001b[38;5;28;01mFalse\u001b[39;00m):\n\u001b[1;32m---> 19\u001b[0m     \u001b[38;5;28;01mreturn\u001b[39;00m \u001b[43mcodecs\u001b[49m\u001b[38;5;241;43m.\u001b[39;49m\u001b[43mcharmap_encode\u001b[49m\u001b[43m(\u001b[49m\u001b[38;5;28;43minput\u001b[39;49m\u001b[43m,\u001b[49m\u001b[38;5;28;43mself\u001b[39;49m\u001b[38;5;241;43m.\u001b[39;49m\u001b[43merrors\u001b[49m\u001b[43m,\u001b[49m\u001b[43mencoding_table\u001b[49m\u001b[43m)\u001b[49m[\u001b[38;5;241m0\u001b[39m]\n",
      "\u001b[1;31mUnicodeEncodeError\u001b[0m: 'charmap' codec can't encode characters in position 34-35: character maps to <undefined>"
     ]
    }
   ],
   "source": [
    "import speech_recognition as sr\n",
    "from pydub import AudioSegment\n",
    "from pydub.silence import split_on_silence\n",
    "\n",
    "# Function to convert from milliseconds to SRT time format\n",
    "def milliseconds_to_srt_time(ms):\n",
    "    hours, ms = divmod(ms, 3600000)\n",
    "    minutes, ms = divmod(ms, 60000)\n",
    "    seconds, ms = divmod(ms, 1000)\n",
    "    return f'{int(hours):02}:{int(minutes):02}:{int(seconds):02},{int(ms):03}'\n",
    "\n",
    "# Load your audio file (change 'audio.wav' to your file's name)\n",
    "audio_file = \"audio.wav\"\n",
    "audio = AudioSegment.from_wav(audio_file)\n",
    "\n",
    "# Split audio into chunks based on silence\n",
    "chunks = split_on_silence(audio, \n",
    "                          min_silence_len=300,\n",
    "                          silence_thresh=audio.dBFS-14,\n",
    "                          keep_silence=300)\n",
    "\n",
    "# Initialize the recognizer\n",
    "r = sr.Recognizer()\n",
    "\n",
    "# Prepare to write the SRT file\n",
    "srt_file_content = \"\"\n",
    "chunk_start_time = 0\n",
    "\n",
    "for i, chunk in enumerate(chunks):\n",
    "    # Export the audio chunk to a wav file\n",
    "    chunk_filename = f\"chunk{i}.wav\"\n",
    "    chunk.export(chunk_filename, format=\"wav\")\n",
    "    \n",
    "    # Use the recognizer to transcribe the chunk\n",
    "    with sr.AudioFile(chunk_filename) as source:\n",
    "        chunk_audio_data = r.record(source)\n",
    "        try:\n",
    "            # Recognize speech using Google's Web Speech API\n",
    "            chunk_text = r.recognize_google(chunk_audio_data, language='hi-IN')\n",
    "            \n",
    "            # Calculate the end time for this chunk\n",
    "            chunk_end_time = chunk_start_time + len(chunk)\n",
    "            \n",
    "            # Append the transcription and timings to the SRT file content\n",
    "            srt_file_content += f\"{i+1}\\n\"\n",
    "            srt_file_content += f\"{milliseconds_to_srt_time(chunk_start_time)} --> {milliseconds_to_srt_time(chunk_end_time)}\\n\"\n",
    "            srt_file_content += f\"{chunk_text}\\n\\n\"\n",
    "            \n",
    "            # Update the start time for the next chunk\n",
    "            chunk_start_time = chunk_end_time + 1\n",
    "        except sr.UnknownValueError:\n",
    "            print(f\"Chunk {i} could not be transcribed.\")\n",
    "        except sr.RequestError as e:\n",
    "            print(f\"Could not request results; {e}\")\n",
    "\n",
    "# Write the SRT file\n",
    "with open(\"output.txt\", \"w\") as file:\n",
    "    file.write(srt_file_content)\n",
    "\n",
    "print(\"SRT file created successfully.\")\n"
   ]
  },
  {
   "cell_type": "code",
   "execution_count": 9,
   "metadata": {},
   "outputs": [
    {
     "data": {
      "text/plain": [
       "'1\\n00:00:00,000 --> 00:00:58,924\\nघर में जुड़वा बच्चे हैं पहले के बेडरूम में एक बंक बेड था की अलमारी और एक स्टडी टेबल बहुत मुश्किल से डाला गया दोनों भाई बारी बारी से ही पढ़ सकते थे और दूसरा दीवार के कोने में बैठा था तब दोनों भाई गुस्से से पूरा बेडरूम तोड़ देते हैं तब पापा ने पूरा बेडरूम फिर से बनाया सबसे पहले मजबूत लोहे से दो बेड स्ट्रक्चर बनाएंगे और साथ में मजबूत पिलर भी लगाएंगे जो बेड को गिरने से रोकेगा और बेड को अच्छे स्क्रू से दीवार में कर देंगे उसके ऊपर अच्छे प्लाई का फ्लोरिंग भी करेंगे और एक आरामदायक गद्दा रखेंगे और साथ में तकिया भी रखेंगे बेड के सामने घेरा भी करेंगे ताकि बच्चे सोते वक्त नीचे के रूप में कुछ रक का उपयोग करेंगे जिसमें बच्चों के कपड़े और गंदे मुझे रखेंगे जिसमें बच्चों की सारी पुस्तक रखेंगे और खिड़की के किनारे एक बड़ा टेबल बनाएंगे जिसमें एक तरफ बड़े बेटे का स्टडी एरिया होगा और दूसरे तरफ छोटे बेटे का स्टडी एरिया जिसमें बेडशीट और बच्चों के कपड़े रखेंगे कंप्यूटर रखेंगे यहां अपने पसंद के गेम खेल सके\\n\\n'"
      ]
     },
     "execution_count": 9,
     "metadata": {},
     "output_type": "execute_result"
    }
   ],
   "source": [
    "srt_file_content"
   ]
  },
  {
   "cell_type": "code",
   "execution_count": 7,
   "metadata": {},
   "outputs": [
    {
     "data": {
      "text/plain": [
       "[<pydub.audio_segment.AudioSegment at 0x1d8c940f730>,\n",
       " <pydub.audio_segment.AudioSegment at 0x1d8c940f3a0>,\n",
       " <pydub.audio_segment.AudioSegment at 0x1d8c940f4c0>,\n",
       " <pydub.audio_segment.AudioSegment at 0x1d8c940f760>,\n",
       " <pydub.audio_segment.AudioSegment at 0x1d8c93f3070>,\n",
       " <pydub.audio_segment.AudioSegment at 0x1d8c93f3e50>,\n",
       " <pydub.audio_segment.AudioSegment at 0x1d8c93f2a40>,\n",
       " <pydub.audio_segment.AudioSegment at 0x1d8c93f2c80>,\n",
       " <pydub.audio_segment.AudioSegment at 0x1d8c93f2860>,\n",
       " <pydub.audio_segment.AudioSegment at 0x1d8c93f2ad0>,\n",
       " <pydub.audio_segment.AudioSegment at 0x1d8c93f3a30>,\n",
       " <pydub.audio_segment.AudioSegment at 0x1d8c93f3b80>,\n",
       " <pydub.audio_segment.AudioSegment at 0x1d8c93f3bb0>,\n",
       " <pydub.audio_segment.AudioSegment at 0x1d8c93f3af0>,\n",
       " <pydub.audio_segment.AudioSegment at 0x1d8c93f3a90>,\n",
       " <pydub.audio_segment.AudioSegment at 0x1d8c93f3c40>,\n",
       " <pydub.audio_segment.AudioSegment at 0x1d8c93f3b20>,\n",
       " <pydub.audio_segment.AudioSegment at 0x1d8c93f3c70>,\n",
       " <pydub.audio_segment.AudioSegment at 0x1d8c93f3d30>,\n",
       " <pydub.audio_segment.AudioSegment at 0x1d8c93f3d00>,\n",
       " <pydub.audio_segment.AudioSegment at 0x1d8c93f26e0>,\n",
       " <pydub.audio_segment.AudioSegment at 0x1d8c93f3ee0>,\n",
       " <pydub.audio_segment.AudioSegment at 0x1d8c93f2c50>,\n",
       " <pydub.audio_segment.AudioSegment at 0x1d8c93f3f40>,\n",
       " <pydub.audio_segment.AudioSegment at 0x1d8c93f3cd0>,\n",
       " <pydub.audio_segment.AudioSegment at 0x1d8c93f3e80>,\n",
       " <pydub.audio_segment.AudioSegment at 0x1d8c93f28f0>,\n",
       " <pydub.audio_segment.AudioSegment at 0x1d8c93f3820>,\n",
       " <pydub.audio_segment.AudioSegment at 0x1d8c93f3eb0>,\n",
       " <pydub.audio_segment.AudioSegment at 0x1d8c93f3f70>,\n",
       " <pydub.audio_segment.AudioSegment at 0x1d8c93f3fd0>,\n",
       " <pydub.audio_segment.AudioSegment at 0x1d8c93f3d60>,\n",
       " <pydub.audio_segment.AudioSegment at 0x1d8c93f37c0>,\n",
       " <pydub.audio_segment.AudioSegment at 0x1d8c93f3220>,\n",
       " <pydub.audio_segment.AudioSegment at 0x1d8c93f33a0>,\n",
       " <pydub.audio_segment.AudioSegment at 0x1d8c93f2800>,\n",
       " <pydub.audio_segment.AudioSegment at 0x1d8c93f37f0>,\n",
       " <pydub.audio_segment.AudioSegment at 0x1d8c93f31f0>,\n",
       " <pydub.audio_segment.AudioSegment at 0x1d8c93f3160>,\n",
       " <pydub.audio_segment.AudioSegment at 0x1d8c93f31c0>,\n",
       " <pydub.audio_segment.AudioSegment at 0x1d8c93f3190>,\n",
       " <pydub.audio_segment.AudioSegment at 0x1d8c93f4b50>,\n",
       " <pydub.audio_segment.AudioSegment at 0x1d8c93f4ca0>,\n",
       " <pydub.audio_segment.AudioSegment at 0x1d8c93f5150>]"
      ]
     },
     "execution_count": 7,
     "metadata": {},
     "output_type": "execute_result"
    }
   ],
   "source": [
    "chunks"
   ]
  },
  {
   "cell_type": "code",
   "execution_count": null,
   "metadata": {},
   "outputs": [],
   "source": []
  }
 ],
 "metadata": {
  "kernelspec": {
   "display_name": "Python 3",
   "language": "python",
   "name": "python3"
  },
  "language_info": {
   "codemirror_mode": {
    "name": "ipython",
    "version": 3
   },
   "file_extension": ".py",
   "mimetype": "text/x-python",
   "name": "python",
   "nbconvert_exporter": "python",
   "pygments_lexer": "ipython3",
   "version": "3.10.6"
  }
 },
 "nbformat": 4,
 "nbformat_minor": 2
}
