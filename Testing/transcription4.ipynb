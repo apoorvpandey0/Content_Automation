{
 "cells": [
  {
   "cell_type": "code",
   "execution_count": 3,
   "metadata": {},
   "outputs": [],
   "source": [
    "from vosk import Model, KaldiRecognizer\n",
    "import wave\n",
    "\n",
    "# Path to the model you just downloaded and unzipped\n",
    "model_path = r\"E:\\vosk-model-en-us-0.42-gigaspeech\"\n",
    "\n",
    "# Load the model\n",
    "model = Model(model_path)"
   ]
  },
  {
   "cell_type": "code",
   "execution_count": 4,
   "metadata": {},
   "outputs": [
    {
     "name": "stdout",
     "output_type": "stream",
     "text": [
      "{\n",
      "  \"text\" : \"the sound\"\n",
      "}{\n",
      "  \"text\" : \"sha sha shui shaver with slaw hawaii do volume boom boom cable yeah the frog half-inch paw with the schmo plush po adverse\"\n",
      "}{\n",
      "  \"text\" : \"josh powell boots with the sound\"\n",
      "}{\n",
      "  \"text\" : \"as bosch crucial\"\n",
      "}{\n",
      "  \"text\" : \"sure joss that age the horn yeah fish flushes through well new short poach phuong just after urchin\"\n",
      "}{\n",
      "  \"text\" : \"ooh yeah ooh\"\n",
      "}{\n",
      "  \"text\" : \"short sprints\"\n",
      "}\n"
     ]
    }
   ],
   "source": [
    "audio_file = \"zackdfilms/\"+\"8_How A Shotgun Shell Works 🤔_audio.wav.\"\n",
    "\n",
    "# Open the audio file using wave\n",
    "with wave.open(audio_file, \"rb\") as wf:\n",
    "    # Create a recognizer with the model and the correct sample rate\n",
    "    rec = KaldiRecognizer(model, wf.getframerate())\n",
    "    \n",
    "    # Initialize an empty string to store the transcription\n",
    "    transcription = \"\"\n",
    "    \n",
    "    # Process the audio file in chunks\n",
    "    while True:\n",
    "        data = wf.readframes(4000)  # Read 4000 frames at a time\n",
    "        if len(data) == 0:\n",
    "            break  # If there's no more audio data, break the loop\n",
    "        if rec.AcceptWaveform(data):\n",
    "            result = rec.Result()  # Get the transcription so far\n",
    "            transcription += result\n",
    "    \n",
    "    # Get any final pieces of the transcription\n",
    "    final_result = rec.FinalResult()\n",
    "    transcription += final_result\n",
    "\n",
    "print(transcription)"
   ]
  },
  {
   "cell_type": "code",
   "execution_count": null,
   "metadata": {},
   "outputs": [],
   "source": []
  }
 ],
 "metadata": {
  "kernelspec": {
   "display_name": "Python 3",
   "language": "python",
   "name": "python3"
  },
  "language_info": {
   "codemirror_mode": {
    "name": "ipython",
    "version": 3
   },
   "file_extension": ".py",
   "mimetype": "text/x-python",
   "name": "python",
   "nbconvert_exporter": "python",
   "pygments_lexer": "ipython3",
   "version": "3.10.6"
  }
 },
 "nbformat": 4,
 "nbformat_minor": 2
}
