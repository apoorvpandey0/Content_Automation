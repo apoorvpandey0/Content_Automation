{
 "cells": [
  {
   "cell_type": "code",
   "execution_count": 1,
   "metadata": {},
   "outputs": [
    {
     "name": "stdout",
     "output_type": "stream",
     "text": [
      "If you looked inside of a shotgun shell youd see that its actually divided by a barrier called a wad. The front half is packed with a smokeless powder, and this powder ignites when the firing pin hits the primer. As it burns, it creates a high pressure gas that builds behind the wad. This forces the wad and shot pellets forward, and just after exiting the barrel, the wad opens and the shot spreads.\n"
     ]
    }
   ],
   "source": [
    "# `pip3 install assemblyai` (macOS)\n",
    "# `pip install assemblyai` (Windows)\n",
    "\n",
    "import assemblyai as aai\n",
    "import pandas as pd\n",
    "\n",
    "def assemblyai_transcribe(video_path):\n",
    "\n",
    "    aai.settings.api_key = \"03d202cce1d4448b860328bcd2d80670\"\n",
    "    transcriber = aai.Transcriber()\n",
    "\n",
    "    df = pd.read_csv('zackdfilms/english_captions.csv')\n",
    "    df = pd.concat([df,pd.DataFrame({'filename':[video_path],'captions':[transcript.text]})])\n",
    "    df.to_csv('zackdfilms/english_captions.csv',index=False)\n",
    "    \n",
    "    transcript = transcriber.transcribe(\"zackdfilms/raw/\"+'8_How A Shotgun Shell Works 🤔.mp4')\n",
    "    # transcript = transcriber.transcribe(\"./my-local-audio-file.wav\")\n",
    "\n",
    "    print(transcript.text)\n",
    "    return transcript.text"
   ]
  },
  {
   "cell_type": "code",
   "execution_count": null,
   "metadata": {},
   "outputs": [],
   "source": []
  }
 ],
 "metadata": {
  "kernelspec": {
   "display_name": "Python 3",
   "language": "python",
   "name": "python3"
  },
  "language_info": {
   "codemirror_mode": {
    "name": "ipython",
    "version": 3
   },
   "file_extension": ".py",
   "mimetype": "text/x-python",
   "name": "python",
   "nbconvert_exporter": "python",
   "pygments_lexer": "ipython3",
   "version": "3.10.6"
  }
 },
 "nbformat": 4,
 "nbformat_minor": 2
}
