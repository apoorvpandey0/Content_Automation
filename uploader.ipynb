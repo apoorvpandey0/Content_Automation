{
 "cells": [
  {
   "cell_type": "code",
   "execution_count": 3,
   "metadata": {},
   "outputs": [],
   "source": [
    "# %pip install instagrapi\n",
    "# %pip install pillow\n",
    "# %pip install moviepy"
   ]
  },
  {
   "cell_type": "code",
   "execution_count": 5,
   "metadata": {},
   "outputs": [
    {
     "name": "stdout",
     "output_type": "stream",
     "text": [
      "Analyzing CLIP file \"C:\\Users\\apoor\\Downloads\\3D Animated shorts edited\\71_e - Made with Clipchamp.mp4\"\n",
      "Generating thumbnail \"C:\\Users\\apoor\\Downloads\\3D Animated shorts edited\\71_e - Made with Clipchamp.mp4.jpg\"...\n",
      "Reel uploaded successfully: pk=3335679465172868711 id='3335679465172868711_65652211077' code='C5KtszmMZ5n' taken_at=datetime.datetime(2024, 3, 31, 5, 47, 7, tzinfo=TzInfo(UTC)) media_type=2 image_versions2={'candidates': [{'width': 360, 'height': 450, 'url': 'https://instagram.fbho3-4.fna.fbcdn.net/v/t51.29350-15/434864307_257495584118016_1044765760829183850_n.jpg?stp=dst-jpg_e15_p360x360&efg=eyJ2ZW5jb2RlX3RhZyI6ImltYWdlX3VybGdlbi4xMDc4eDEzNDcuc2RyIn0&_nc_ht=instagram.fbho3-4.fna.fbcdn.net&_nc_cat=100&_nc_ohc=eCnhiVlt5u4AX-pSMqX&edm=AA3Yet0BAAAA&ccb=7-5&ig_cache_key=MzMzNTY3OTQ2NTE3Mjg2ODcxMQ%3D%3D.2-ccb7-5&oh=00_AfB9BQM9jjifJkw1uSPv1ZDpRJwsSCtDFTjFb_yc_mRdwg&oe=660CC872&_nc_sid=da5c95', 'scans_profile': 'e15'}], 'additional_candidates': {'igtv_first_frame': {'width': 360, 'height': 639, 'url': 'https://instagram.fbho3-4.fna.fbcdn.net/v/t51.29350-15/435109900_317540767679796_5412780947983852269_n.jpg?stp=dst-jpg_e15_p360x360&efg=eyJ2ZW5jb2RlX3RhZyI6ImltYWdlX3VybGdlbi42NDB4MTEzNi5zZHIifQ&_nc_ht=instagram.fbho3-4.fna.fbcdn.net&_nc_cat=100&_nc_ohc=1NMD8ZOjySIAX9UeAan&edm=AA3Yet0BAAAA&ccb=7-5&oh=00_AfC06ZEOG21dc9KyKXmPbQQ1tcTnhklnpE2lEL3Nthnaeg&oe=660ED724&_nc_sid=da5c95', 'scans_profile': 'e15'}, 'first_frame': {'width': 360, 'height': 639, 'url': 'https://instagram.fbho3-4.fna.fbcdn.net/v/t51.29350-15/435109900_317540767679796_5412780947983852269_n.jpg?stp=dst-jpg_e15_p360x360&efg=eyJ2ZW5jb2RlX3RhZyI6ImltYWdlX3VybGdlbi42NDB4MTEzNi5zZHIifQ&_nc_ht=instagram.fbho3-4.fna.fbcdn.net&_nc_cat=100&_nc_ohc=1NMD8ZOjySIAX9UeAan&edm=AA3Yet0BAAAA&ccb=7-5&oh=00_AfC06ZEOG21dc9KyKXmPbQQ1tcTnhklnpE2lEL3Nthnaeg&oe=660ED724&_nc_sid=da5c95', 'scans_profile': 'e15'}, 'smart_frame': None}, 'smart_thumbnail_enabled': False, 'scrubber_spritesheet_info_candidates': {'default': {'video_length': 48.5, 'thumbnail_width': 100, 'thumbnail_height': 178, 'thumbnail_duration': 0.46190476190476193, 'sprite_urls': ['https://instagram.fbho3-2.fna.fbcdn.net/v/t51.2885-15/434831174_2075010292853573_8489574113158042749_n.jpg?_nc_ht=instagram.fbho3-2.fna.fbcdn.net&_nc_cat=105&_nc_ohc=3riV_YxKJzMAX9VK-rT&edm=AA3Yet0BAAAA&ccb=7-5&oh=00_AfDDswQNN0eHHsIDvLLx08h9QYfVShBQ9n-rLzHB1V9wsw&oe=660ACA34&_nc_sid=da5c95'], 'thumbnails_per_row': 15, 'total_thumbnail_num_per_sprite': 105, 'max_thumbnails_per_sprite': 105, 'sprite_width': 1500, 'sprite_height': 1246, 'rendered_width': 96, 'file_size_kb': 318}}} product_type='clips' thumbnail_url=Url('https://instagram.fbho3-4.fna.fbcdn.net/v/t51.29350-15/434864307_257495584118016_1044765760829183850_n.jpg?stp=dst-jpg_e15_p360x360&efg=eyJ2ZW5jb2RlX3RhZyI6ImltYWdlX3VybGdlbi4xMDc4eDEzNDcuc2RyIn0&_nc_ht=instagram.fbho3-4.fna.fbcdn.net&_nc_cat=100&_nc_ohc=eCnhiVlt5u4AX-pSMqX&edm=AA3Yet0BAAAA&ccb=7-5&ig_cache_key=MzMzNTY3OTQ2NTE3Mjg2ODcxMQ%3D%3D.2-ccb7-5&oh=00_AfB9BQM9jjifJkw1uSPv1ZDpRJwsSCtDFTjFb_yc_mRdwg&oe=660CC872&_nc_sid=da5c95') location=None user=UserShort(pk='65652211077', username='animated_home_solutions', full_name='Home design', profile_pic_url=Url('https://instagram.fbho3-2.fna.fbcdn.net/v/t51.2885-19/434245586_1868766573572846_2241331122457633356_n.jpg?stp=dst-jpg_e0_s150x150&_nc_ht=instagram.fbho3-2.fna.fbcdn.net&_nc_cat=102&_nc_ohc=WZkM2sQHdhwAX8hVZoS&edm=AA3Yet0BAAAA&ccb=7-5&oh=00_AfCGj8WD11iVeWMc_KSRfoXXuXPxbCbxVzlJU2IHnTuDTg&oe=660EBDBC&_nc_sid=da5c95'), profile_pic_url_hd=None, is_private=False) comment_count=0 comments_disabled=False commenting_disabled_for_viewer=False like_count=0 play_count=0 has_liked=False caption_text='I Made Luxury & Perfect Bedroom For Daughter' accessibility_caption=None usertags=[] sponsor_tags=[] video_url=Url('https://instagram.fbho3-2.fna.fbcdn.net/v/t50.2886-16/434188411_943172230774070_6582481633066990937_n.mp4?efg=eyJ2ZW5jb2RlX3RhZyI6ImlnX3Byb2dyZXNzaXZlX3VybGdlbi5jbGlwcy5jMi5hc2ljX2hxMV9zZF9wcm9ncmVzc2l2ZSIsInFlX2dyb3VwcyI6IltcImlnX3Byb2dyZXNzaXZlX3VybGdlbi5wcm9kdWN0X3R5cGUuY2xpcHNcIl0ifQ&_nc_ht=instagram.fbho3-2.fna.fbcdn.net&_nc_cat=102&_nc_ohc=M4ntMR7iAqgAX_J1Tlv&edm=AA3Yet0BAAAA&ccb=7-5&oh=00_AfC1i6jhM8AIZZ1_MQQzeR-HWDNa4--LGCqBs3BKHTy7Bw&oe=660CD4A5&_nc_sid=da5c95') view_count=0 video_duration=48.5 title='' resources=[] clips_metadata={'achievements_info': {'show_achievements': True, 'num_earned_achievements': 0}, 'asset_recommendation_info': None, 'audio_ranking_info': {'best_audio_cluster_id': '1553443118557347'}, 'audio_type': 'original_sounds', 'branded_content_tag_info': {'can_add_tag': True}, 'breaking_content_info': None, 'breaking_creator_info': None, 'challenge_info': None, 'clips_creation_entry_point': '', 'content_appreciation_info': {'enabled': False, 'entry_point_container': None}, 'contextual_highlight_info': None, 'cutout_sticker_info': [], 'disable_use_in_clips_client_cache': False, 'external_media_info': None, 'featured_label': None, 'is_fan_club_promo_video': False, 'is_public_chat_welcome_video': False, 'mashup_info': {'mashups_allowed': True, 'can_toggle_mashups_allowed': True, 'has_been_mashed_up': False, 'is_light_weight_check': False, 'formatted_mashups_count': None, 'original_media': None, 'privacy_filtered_mashups_media_count': None, 'non_privacy_filtered_mashups_media_count': None, 'mashup_type': None, 'is_creator_requesting_mashup': False, 'has_nonmimicable_additional_audio': False, 'is_pivot_page_available': False}, 'merchandising_pill_info': None, 'music_canonical_id': '18406778920066980', 'music_info': None, 'nux_info': None, 'original_sound_info': None, 'professional_clips_upsell_type': 0, 'reels_on_the_rise_info': None, 'reusable_text_attribute_string': None, 'reusable_text_info': None, 'shopping_info': None, 'show_achievements': True, 'show_tips': None, 'template_info': None, 'additional_audio_info': {'additional_audio_username': None, 'audio_reattribution_info': {'should_allow_restore': False}}, 'is_shared_to_fb': False, 'viewer_interaction_settings': None}\n"
     ]
    }
   ],
   "source": [
    "from instagrapi import Client\n",
    "\n",
    "def upload_reel(username, password, video_path, thumbnail_path, caption):\n",
    "    \"\"\"\n",
    "    Upload a reel to Instagram using the instagrapi package.\n",
    "\n",
    "    Parameters:\n",
    "    - username: Your Instagram username\n",
    "    - password: Your Instagram password\n",
    "    - video_path: The file path to the video you want to upload as a reel\n",
    "    - thumbnail_path: The file path to the image you want to use as a thumbnail\n",
    "    - caption: The caption for the reel\n",
    "    \"\"\"\n",
    "    cl = Client()\n",
    "    cl.login(username, password)\n",
    "\n",
    "    # reel = cl.video_upload_to_reel(video_path, thumbnail_path, caption=caption)\n",
    "    reel = cl.clip_upload(video_path, caption=caption)\n",
    "    return reel\n",
    "\n",
    "# Example usage\n",
    "username = 'animated_home_solutions'\n",
    "password = 'Latest@2024'\n",
    "video_path = r'C:\\Users\\apoor\\Downloads\\3D Animated shorts edited\\71_e - Made with Clipchamp.mp4'\n",
    "thumbnail_path = 'path_to_your_thumbnail.jpg'\n",
    "caption = 'I Made Luxury & Perfect Bedroom For Daughter'\n",
    "\n",
    "reel = upload_reel(username, password, video_path, thumbnail_path, caption)\n",
    "print(f\"Reel uploaded successfully: {reel}\")\n"
   ]
  },
  {
   "cell_type": "code",
   "execution_count": null,
   "metadata": {},
   "outputs": [],
   "source": []
  }
 ],
 "metadata": {
  "kernelspec": {
   "display_name": "Python 3",
   "language": "python",
   "name": "python3"
  },
  "language_info": {
   "codemirror_mode": {
    "name": "ipython",
    "version": 3
   },
   "file_extension": ".py",
   "mimetype": "text/x-python",
   "name": "python",
   "nbconvert_exporter": "python",
   "pygments_lexer": "ipython3",
   "version": "3.10.6"
  }
 },
 "nbformat": 4,
 "nbformat_minor": 2
}
