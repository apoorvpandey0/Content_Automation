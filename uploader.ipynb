{
 "cells": [
  {
   "cell_type": "code",
   "execution_count": 1,
   "metadata": {},
   "outputs": [],
   "source": [
    "# %pip install instagrapi\n",
    "# %pip install pillow\n",
    "# %pip install moviepy"
   ]
  },
  {
   "cell_type": "code",
   "execution_count": 2,
   "metadata": {},
   "outputs": [],
   "source": [
    "from instagrapi import Client\n",
    "import os\n",
    "import pandas as pd\n",
    "import datetime"
   ]
  },
  {
   "cell_type": "code",
   "execution_count": 3,
   "metadata": {},
   "outputs": [],
   "source": [
    "\n",
    "def upload_reel(username, password, video_path, thumbnail_path, caption):\n",
    "    \"\"\"\n",
    "    Upload a reel to Instagram using the instagrapi package.\n",
    "\n",
    "    Parameters:\n",
    "    - username: Your Instagram username\n",
    "    - password: Your Instagram password\n",
    "    - video_path: The file path to the video you want to upload as a reel\n",
    "    - thumbnail_path: The file path to the image you want to use as a thumbnail\n",
    "    - caption: The caption for the reel\n",
    "    \"\"\"\n",
    "    cl = Client()\n",
    "    cl.login(username, password)\n",
    "\n",
    "    # reel = cl.video_upload_to_reel(video_path, thumbnail_path, caption=caption)\n",
    "    reel = cl.clip_upload(video_path, caption=caption)\n",
    "    return reel\n",
    "\n",
    "# Example usage\n",
    "username = 'animated_home_solutions'\n",
    "password = 'Pandeyji@2024'\n",
    "video_path = r'C:\\Users\\apoor\\Downloads\\3D Animated shorts edited\\71_e - Made with Clipchamp.mp4'\n",
    "thumbnail_path = 'path_to_your_thumbnail.jpg'\n",
    "base_caption = \"\"\"\n",
    "#shortshorts\n",
    "#homedecor\n",
    "#homedecoration\n",
    "#homedesign\n",
    "#husbandandwife\n",
    "#homeimprovement\n",
    "#interiordesign\n",
    "#bedroomdesign\n",
    "#bedroomideas\n",
    "#beautifulhomes\n",
    "#bathroomdesign\n",
    "#bedroomdecor\n",
    "#bedroomfurniture\n",
    "#kitchenrenovation\n",
    "#3danimation\n",
    "\"\"\"\n",
    "\n",
    "# reel = upload_reel(username, password, video_path, thumbnail_path, base_caption)\n",
    "# print(f\"Reel uploaded successfully: {reel}\")\n"
   ]
  },
  {
   "cell_type": "code",
   "execution_count": 4,
   "metadata": {},
   "outputs": [],
   "source": [
    "filenames = next(os.walk('stage2'), (None, None, []))[2] \n",
    "filenames_s = sorted(filenames, key=lambda x: int(x.split('_')[0]))\n",
    "filenames_sr = list(reversed(filenames_s))\n",
    "video_files = [filename for filename in filenames_sr if filename.endswith('.mp4')]"
   ]
  },
  {
   "cell_type": "code",
   "execution_count": 5,
   "metadata": {},
   "outputs": [
    {
     "data": {
      "text/plain": [
       "'Turn a Simple Room Into a Luxury Room in 3D home redesign animations'"
      ]
     },
     "execution_count": 5,
     "metadata": {},
     "output_type": "execute_result"
    }
   ],
   "source": [
    "filenames_sr[0].split('_')[1].split('.')[0]"
   ]
  },
  {
   "cell_type": "code",
   "execution_count": 6,
   "metadata": {},
   "outputs": [
    {
     "data": {
      "text/plain": [
       "'74_Turn a Simple Room Into a Luxury Room in 3D home redesign animations_stage1'"
      ]
     },
     "execution_count": 6,
     "metadata": {},
     "output_type": "execute_result"
    }
   ],
   "source": [
    "filenames_sr[0].split('.')[0]"
   ]
  },
  {
   "cell_type": "code",
   "execution_count": 7,
   "metadata": {},
   "outputs": [
    {
     "name": "stdout",
     "output_type": "stream",
     "text": [
      "I Made a Beautiful Bedroom For My Childs 3D home redesign animations\n",
      "\n",
      "#shortshorts\n",
      "#homedecor\n",
      "#homedecoration\n",
      "#homedesign\n",
      "#husbandandwife\n",
      "#homeimprovement\n",
      "#interiordesign\n",
      "#bedroomdesign\n",
      "#bedroomideas\n",
      "#beautifulhomes\n",
      "#bathroomdesign\n",
      "#bedroomdecor\n",
      "#bedroomfurniture\n",
      "#kitchenrenovation\n",
      "#3danimation\n",
      "\n",
      "Analyzing CLIP file \"stage2\\52_I Made a Beautiful Bedroom For My Childs 3D home redesign animations_stage1.mp4\"\n",
      "Generating thumbnail \"stage2\\52_I Made a Beautiful Bedroom For My Childs 3D home redesign animations_stage1.mp4.jpg\"...\n"
     ]
    }
   ],
   "source": [
    "df = pd.read_csv('posted.csv')\n",
    "posted = df['raw_name'].to_list()\n",
    "# print(posted)\n",
    "for raw_name in video_files:\n",
    "    if raw_name in posted:  \n",
    "        continue\n",
    "    name = raw_name.split('_')[1].split('.')[0]\n",
    "    caption = name+'\\n'+base_caption\n",
    "    print(caption)\n",
    "    reel = upload_reel(username, password, 'stage2/'+raw_name, \"\", r\"\"\"\"\"\"+caption)\n",
    " \n",
    "    now = datetime.datetime.now()\n",
    "    df2 = pd.concat([df,pd.DataFrame({'raw_name':[raw_name],'posted_date':[now.strftime(\"%Y-%m-%d %H:%M:%S\")]})])\n",
    "    df2.to_csv('posted.csv',index=False)\n",
    "    break"
   ]
  },
  {
   "cell_type": "code",
   "execution_count": null,
   "metadata": {},
   "outputs": [],
   "source": []
  }
 ],
 "metadata": {
  "kernelspec": {
   "display_name": "Python 3",
   "language": "python",
   "name": "python3"
  },
  "language_info": {
   "codemirror_mode": {
    "name": "ipython",
    "version": 3
   },
   "file_extension": ".py",
   "mimetype": "text/x-python",
   "name": "python",
   "nbconvert_exporter": "python",
   "pygments_lexer": "ipython3",
   "version": "3.10.6"
  }
 },
 "nbformat": 4,
 "nbformat_minor": 2
}
