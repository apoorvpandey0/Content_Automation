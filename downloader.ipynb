{
 "cells": [
  {
   "cell_type": "code",
   "execution_count": 1,
   "metadata": {},
   "outputs": [],
   "source": [
    "import pandas as pd\n",
    "from pytube import Channel,YouTube,Playlist"
   ]
  },
  {
   "cell_type": "code",
   "execution_count": 11,
   "metadata": {},
   "outputs": [
    {
     "data": {
      "text/html": [
       "<div>\n",
       "<style scoped>\n",
       "    .dataframe tbody tr th:only-of-type {\n",
       "        vertical-align: middle;\n",
       "    }\n",
       "\n",
       "    .dataframe tbody tr th {\n",
       "        vertical-align: top;\n",
       "    }\n",
       "\n",
       "    .dataframe thead th {\n",
       "        text-align: right;\n",
       "    }\n",
       "</style>\n",
       "<table border=\"1\" class=\"dataframe\">\n",
       "  <thead>\n",
       "    <tr style=\"text-align: right;\">\n",
       "      <th></th>\n",
       "      <th>title</th>\n",
       "      <th>link</th>\n",
       "    </tr>\n",
       "  </thead>\n",
       "  <tbody>\n",
       "    <tr>\n",
       "      <th>0</th>\n",
       "      <td>Parents Made a Perfect &amp; Luxury Bedroom For Da...</td>\n",
       "      <td>https://www.youtube.comhttps://www.youtube.com...</td>\n",
       "    </tr>\n",
       "    <tr>\n",
       "      <th>1</th>\n",
       "      <td>We Built a Beautiful Living Room For My Wife |...</td>\n",
       "      <td>https://www.youtube.comhttps://www.youtube.com...</td>\n",
       "    </tr>\n",
       "    <tr>\n",
       "      <th>2</th>\n",
       "      <td>Husband &amp; Wife Made a Luxury Bedroom For Their...</td>\n",
       "      <td>https://www.youtube.comhttps://www.youtube.com...</td>\n",
       "    </tr>\n",
       "    <tr>\n",
       "      <th>3</th>\n",
       "      <td>Parents Made a Attractive Bedroom For Twin Dau...</td>\n",
       "      <td>https://www.youtube.comhttps://www.youtube.com...</td>\n",
       "    </tr>\n",
       "    <tr>\n",
       "      <th>4</th>\n",
       "      <td>Beauty Kumar Built a Beautiful Bedroom For Her...</td>\n",
       "      <td>https://www.youtube.comhttps://www.youtube.com...</td>\n",
       "    </tr>\n",
       "  </tbody>\n",
       "</table>\n",
       "</div>"
      ],
      "text/plain": [
       "                                               title  \\\n",
       "0  Parents Made a Perfect & Luxury Bedroom For Da...   \n",
       "1  We Built a Beautiful Living Room For My Wife |...   \n",
       "2  Husband & Wife Made a Luxury Bedroom For Their...   \n",
       "3  Parents Made a Attractive Bedroom For Twin Dau...   \n",
       "4  Beauty Kumar Built a Beautiful Bedroom For Her...   \n",
       "\n",
       "                                                link  \n",
       "0  https://www.youtube.comhttps://www.youtube.com...  \n",
       "1  https://www.youtube.comhttps://www.youtube.com...  \n",
       "2  https://www.youtube.comhttps://www.youtube.com...  \n",
       "3  https://www.youtube.comhttps://www.youtube.com...  \n",
       "4  https://www.youtube.comhttps://www.youtube.com...  "
      ]
     },
     "execution_count": 11,
     "metadata": {},
     "output_type": "execute_result"
    }
   ],
   "source": [
    "df = pd.read_excel('TheStoriesTime.xlsx')\n",
    "df.head()"
   ]
  },
  {
   "cell_type": "code",
   "execution_count": 17,
   "metadata": {},
   "outputs": [
    {
     "name": "stdout",
     "output_type": "stream",
     "text": [
      "Downloaded 'Parents Made a Perfect & Luxury Bedroom For Daughter || 3d Animation By The Stories Time #shorts' successfully.\n",
      "Downloaded 'We Built a Beautiful Living Room For My Wife || 3d Animation By The Stories Time || #shorts' successfully.\n",
      "Downloaded 'Husband & Wife Made a Luxury Bedroom For Their Children || 3d Animation By The Stories Time #shorts' successfully.\n",
      "Downloaded 'Parents Made a Attractive Bedroom For Twin Daughter || 3d Animation By The Stories Time #shorts' successfully.\n",
      "Downloaded 'Beauty Kumar Built a Beautiful Bedroom For Herself || 3d Animation By The Stories Time #shorts' successfully.\n",
      "Downloaded 'We Built a Luxury Bedroom For Our Studious Son || 3d Animation By The Stories Time || #shorts' successfully.\n",
      "Downloaded 'We Built a Luxury Bedroom For Our Beloved Daughter || 3d Animation By The Stories Time #shorts' successfully.\n",
      "Downloaded 'Mother Built a Perfect & Luxury Bedroom For Her Son || 3d Animation By The Stories Time || #shorts' successfully.\n",
      "Downloaded 'We Built an Attractive & Luxury Bedroom For Son || 3d Animation By The Stories Time || #shorts' successfully.\n",
      "Downloaded 'We Built a Perfect & Luxury Kitchen For Our wife || 3d Animation By The Stories Time || #shorts' successfully.\n",
      "Downloaded 'Parents Built a Beautiful Bedroom For Son & Daughter || 3d Animation By The Stories Time || #shorts' successfully.\n",
      "Downloaded 'Kalua Built a Luxury Bedroom For His Old Parents || 3d Animation By The Stories Time || #shorts' successfully.\n",
      "Downloaded 'Old Bedroom Was Removed & New Luxury Bedroom Was Built || 3d Animation By The Stories Time #shorts' successfully.\n",
      "Downloaded 'I Built Luxurious Bedroom as Per Wife's Choice || 3d Animation By The Stories Time || #shorts' successfully.\n",
      "Downloaded 'We Turned an Empty Bedroom Into a Luxury Bedroom || 3d Animation By The Stories Time || #shorts' successfully.\n",
      "Downloaded 'Dad Rebuilt The Entire Bedroom To House a Study Table || 3d Animation By The Stories Time || #shorts' successfully.\n",
      "Downloaded 'Made Attractive And Luxury Bedroom For Daughter || 3d Animation By The Stories Time || #shorts' successfully.\n",
      "Downloaded 'Dad Made an Attractive Bedroom For His Son & Daughter || 3d Animation By The Stories Time || #shorts' successfully.\n",
      "Downloaded 'Dad Built an Advanced Gaming Room For His Son || 3d Animation By The Stories Time || #shorts' successfully.\n",
      "Downloaded 'I Made a Perfect & Luxury Bedroom For My Wife || 3d Animation By The Stories Time || #shorts' successfully.\n",
      "Downloaded 'I Made an Luxury Bedroom With a Study Table For Son || 3d Animation By The Stories Time || #shorts' successfully.\n",
      "Downloaded 'Husband Built a Luxurious Kitchen Room For His Wife || 3d Animation By The Stories Time || #shorts' successfully.\n",
      "Downloaded 'Husband & Wife Made a Perfect Bedroom For Themselves || 3d Animation By The Stories Time || #shorts' successfully.\n",
      "Downloaded 'I Made a Attractive Hostel For My School Student || 3d Animation By The Stories Time || #shorts' successfully.\n",
      "Downloaded 'I Made a Luxury & Beautiful Bedroom For 8 Children || 3d Animation By The Stories Time || #shorts' successfully.\n",
      "Downloaded 'I Made a Luxurious & Beautiful Balcony || 3d Animation By The Stories Time || #shorts' successfully.\n",
      "Downloaded 'I Made a Luxury & Beautiful Bedroom For Wife || 3d Animation By The Stories Time || #shorts' successfully.\n",
      "Downloaded 'I Built a Unique & Beautiful Coffin-Like House  || 3d Animation By The Stories Time || #shorts' successfully.\n",
      "Downloaded 'I Turn Old Bathroom Into a Attractive Bathroom || 3d Animation By The Stories Time || #shorts' successfully.\n",
      "Downloaded 'I Made a Simple & Luxury Bedroom For Son || 3d Animation By The Stories Time || #shorts' successfully.\n",
      "Downloaded 'Mom Built an Attractive Bedroom For 4 Naughty Kids || 3d Animation By The Stories Time || #shorts' successfully.\n",
      "Downloaded 'Dad Built a Luxurious Bedroom For Six Children || 3d Animation By The Stories Time || #shorts' successfully.\n",
      "Downloaded 'Mom made an Attractive Bedroom For Son & Daughter || 3d Animation By The Stories Time || #shorts' successfully.\n",
      "Downloaded 'I Made a Perfect & Beautiful Kitchen Room For Wife || 3d Animation By The Stories Time || #shorts' successfully.\n",
      "Downloaded 'I Made a Perfect & Beautiful Bedroom For Son || 3d Animation By The Stories Time || #shorts' successfully.\n",
      "Downloaded 'Wife Made a Attractive & Luxury House Entrance || 3d Animation By The Stories Time || #shorts' successfully.\n",
      "Downloaded 'I Made a Beautiful & Luxury Bathroom For Wife || 3d Animation By The Stories Time || #shorts' successfully.\n",
      "Downloaded 'Husband Built a Beautiful Kitchen Room For His Wife || 3d Animation By The Stories Time || #shorts' successfully.\n",
      "Downloaded 'Papa Built a Luxury Bedroom For His Twin Sons || 3d Animation By The Stories Time || #shorts' successfully.\n",
      "Downloaded 'Wife Made a Beautiful & Attractive Living Room || 3d Animation By The Stories Time || #shorts' successfully.\n",
      "Downloaded 'Husband Made a Luxury & Attractive Bedroom || 3d Animation By The Stories Time || #shorts' successfully.\n",
      "Downloaded 'Dad Built An Attractive Bedroom For His Son || 3d Animation By The Stories Time || #shorts' successfully.\n",
      "Downloaded 'I Made a Luxury & Beautiful Bedroom For My Son || 3d Animation By The Stories Time || #shorts' successfully.\n",
      "Downloaded 'Dad Made a Luxury & Beautiful Bedroom For His Son || 3d Animation By The Stories Time || #shorts' successfully.\n",
      "Downloaded 'I Made a Beautiful Bedroom For Six Children || 3d Animation By The Stories Time || #shorts' successfully.\n",
      "Downloaded 'Wife Made a Luxury & Beautiful Kitchen Room || 3d Animation By The Stories || #shorts' successfully.\n",
      "Downloaded 'I Made a Beautiful & Perfect Bedroom For Wife || 3d Animation By The Stories Time || #shorts' successfully.\n",
      "Downloaded 'Mom Made a Beautiful & Luxury Bedroom For Doughter || 3d Animation By The Stories Time || #shorts' successfully.\n",
      "Downloaded 'Husband And Wife Made a Beautiful Living Room || 3d Animation By The Stories Time || #shorts' successfully.\n",
      "Downloaded 'Husband Made a Luxurious Bathroom For His Wife || 3d Animation By The Stories Time || #shorts' successfully.\n",
      "Downloaded 'Wife Made a Luxury & Beautiful Kitchen Room || 3d Animation By The Stories Time || #shorts' successfully.\n",
      "Downloaded 'I Made a Luxury & Perfect Bedroom For Son || 3d Animation By The Stories Time || #shorts' successfully.\n",
      "Downloaded 'I Made a Beautiful Bedroom For My Child's || 3d Animation By The Stories Time || #shorts' successfully.\n",
      "Downloaded 'Mom Made a Luxury Bedroom For Her Lazy Son || 3d Animation By The Stories Time || #shorts' successfully.\n",
      "Downloaded 'Father Made a Luxury Bedroom For Five Children || 3d Animation By The Stories Time || #shorts' successfully.\n",
      "Downloaded 'I Made a Luxury & Perfect Bedroom For My Child || 3d Animation By The Stories Time || #shorts' successfully.\n",
      "Downloaded 'Dad Made a Luxury Bedroom For His Stubborn Son || 3d Animation By The Stories Time || #shorts' successfully.\n",
      "Downloaded 'Mom Made a Beautiful Bedroom For 8 Children || 3d Animation By The Stories Time || #shorts' successfully.\n",
      "Downloaded 'I Made a Beautiful & Luxury Bedroom For Twin Sister || 3d Animation By The Stories Time || #shorts' successfully.\n",
      "Downloaded 'I Made a Luxury & Perfect Bathroom For Wife || 3d Animation By The Stories Time || #shorts' successfully.\n",
      "Downloaded 'I Made a Luxury & Perfect Bedroom For 18 Son || 3d Animation By The Stories Time || #shorts' successfully.\n",
      "Downloaded 'Dad Made a Luxury & Perfect Bedroom For His Daughter || 3d Animation By The Stories Time || #shorts' successfully.\n",
      "Downloaded 'Wife Made a Luxury Bedroom For Her Husband || 3d Animation By The Stories Time || #shorts' successfully.\n",
      "Downloaded 'Made a Beautiful & Luxury Bedroom For My Son || 3d Animation By The Stories Time || #shorts' successfully.\n",
      "Downloaded 'I Made a Luxury & Perfect Bathroom For Children || 3d Animation By The Stories Time || #shorts' successfully.\n",
      "Downloaded 'I Made a Luxury & Perfect Bedroom For Two Son || 3d Animation By The Stories Time || #shorts' successfully.\n",
      "Downloaded 'I Made Luxury & Perfect Study Room & Bedroom || 3d Animation By The Stories Time || #shorts' successfully.\n",
      "Downloaded 'Made a Beautiful Bedroom for My   Daughter || 3d Animation By The Stories Time || #shorts' successfully.\n",
      "Downloaded 'I Made Luxury & Perfect Kitchen || 3d Animation By The Stories Time || #shorts' successfully.\n",
      "Downloaded 'Turn a Simple Living Room Into a Perfect & Luxury Living Room in 3d Animation || #shorts' successfully.\n",
      "Downloaded 'I Made Luxury & Perfect Bedroom For Noughty Child || 3d Animation By The Stories Time || #shorts' successfully.\n",
      "Downloaded 'I Made Luxury & Perfect Bedroom For Daughter || 3d Animation By The Stories Time || #shorts' successfully.\n",
      "Downloaded 'I Made Luxury & Perfect Bedroom For Son || 3D Animation By The Stories Time || #shorts' successfully.\n",
      "Downloaded 'Husband Converted Simple Bedroom into Luxury Bedroom In 3d Animation #shorts' successfully.\n",
      "Downloaded 'Turn a Simple Room Into a Luxury Room in 3d Animation #shorts' successfully.\n"
     ]
    }
   ],
   "source": [
    "def download_video(video_url, path_to_save_video,prefix):\n",
    "    yt = YouTube(video_url)                \n",
    "    video_stream = yt.streams.get_highest_resolution()\n",
    "    video_stream.download(output_path=path_to_save_video,filename_prefix=prefix)\n",
    "    print(f\"Downloaded '{yt.title}' successfully.\")\n",
    "for idx,row in df.iterrows():\n",
    "    download_video(row['link'],f'downloads',str(idx)+'_')"
   ]
  },
  {
   "cell_type": "code",
   "execution_count": null,
   "metadata": {},
   "outputs": [],
   "source": [
    "url = \"https://www.youtube.com/@thestoriestime\" "
   ]
  },
  {
   "cell_type": "code",
   "execution_count": null,
   "metadata": {},
   "outputs": [
    {
     "data": {
      "text/plain": [
       "('The Stories Time',)"
      ]
     },
     "execution_count": 4,
     "metadata": {},
     "output_type": "execute_result"
    }
   ],
   "source": [
    "c = Channel(url)\n",
    "c.channel_name,"
   ]
  },
  {
   "cell_type": "code",
   "execution_count": null,
   "metadata": {},
   "outputs": [],
   "source": [
    "p = Playlist(c.playlists_url) "
   ]
  },
  {
   "cell_type": "code",
   "execution_count": null,
   "metadata": {},
   "outputs": [
    {
     "data": {
      "text/plain": [
       "[]"
      ]
     },
     "execution_count": 13,
     "metadata": {},
     "output_type": "execute_result"
    }
   ],
   "source": [
    "p.videos"
   ]
  },
  {
   "cell_type": "code",
   "execution_count": null,
   "metadata": {
    "vscode": {
     "languageId": "javascript"
    }
   },
   "outputs": [],
   "source": [
    "// // List all YT videos on a given page\n",
    "\n",
    "// console.clear();\n",
    "// shorts = $$('ytd-rich-item-renderer');\n",
    "// shorts.forEach(function(short, i, shorts) {\n",
    "// const title = short.querySelector('#video-title').textContent;\n",
    "// const url = 'https://www.youtube.com' + short.querySelector('#thumbnail').href;\n",
    "// console.log('\\t'+title+'\\t'+url+'\\t');\n",
    "// });"
   ]
  }
 ],
 "metadata": {
  "kernelspec": {
   "display_name": "Python 3",
   "language": "python",
   "name": "python3"
  },
  "language_info": {
   "codemirror_mode": {
    "name": "ipython",
    "version": 3
   },
   "file_extension": ".py",
   "mimetype": "text/x-python",
   "name": "python",
   "nbconvert_exporter": "python",
   "pygments_lexer": "ipython3",
   "version": "3.10.6"
  }
 },
 "nbformat": 4,
 "nbformat_minor": 2
}
