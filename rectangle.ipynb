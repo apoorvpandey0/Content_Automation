{
 "cells": [
  {
   "cell_type": "code",
   "execution_count": 4,
   "metadata": {},
   "outputs": [
    {
     "name": "stdout",
     "output_type": "stream",
     "text": [
      "test_output.mp4\n",
      "Processed 1318 frames.\n"
     ]
    }
   ],
   "source": [
    "import cv2\n",
    "import os\n",
    "\n",
    "def draw_rectangle_on_video(input_video_path, output_video_path, top_left_coordinate, bottom_right_coordinate):\n",
    "    \"\"\"\n",
    "    Draws a solid rectangle on a video with error handling.\n",
    "\n",
    "    Parameters:\n",
    "    - input_video_path: Path to the input video file.\n",
    "    - output_video_path: Path where the output video will be saved.\n",
    "    - top_left_coordinate: Tuple (x, y) for the top left coordinate of the rectangle.\n",
    "    - bottom_right_coordinate: Tuple (x, y) for the bottom right coordinate of the rectangle.\n",
    "    \"\"\"\n",
    "    try:\n",
    "        # Attempt to open the input video\n",
    "        cap = cv2.VideoCapture(input_video_path)\n",
    "        if not cap.isOpened():\n",
    "            raise IOError(f\"Could not open video file: {input_video_path}\")\n",
    "\n",
    "        # Get the video properties\n",
    "        frame_width = int(cap.get(cv2.CAP_PROP_FRAME_WIDTH))\n",
    "        frame_height = int(cap.get(cv2.CAP_PROP_FRAME_HEIGHT))\n",
    "        fps = cap.get(cv2.CAP_PROP_FPS)\n",
    "\n",
    "        # Generate output video path by appending '_output' before the file extension\n",
    "        base_name, extension = os.path.splitext(input_video_path)\n",
    "        output_video_path = f\"{output_video_path}{base_name}_output{extension}\"\n",
    "        print(output_video_path)\n",
    "\n",
    "        # Define the codec and create a VideoWriter object\n",
    "        out = cv2.VideoWriter(output_video_path, cv2.VideoWriter_fourcc(*'mp4v'), fps, (frame_width, frame_height))\n",
    "\n",
    "        frame_count = 0  # To count the number of frames processed\n",
    "\n",
    "        while True:\n",
    "            ret, frame = cap.read()\n",
    "            if not ret:\n",
    "                break\n",
    "\n",
    "            # Draw a solid rectangle on the frame\n",
    "            cv2.rectangle(frame, top_left_coordinate, bottom_right_coordinate, (0, 255, 0), -1)\n",
    "\n",
    "            # Write the frame into the file\n",
    "            out.write(frame)\n",
    "            frame_count += 1\n",
    "\n",
    "        print(f\"Processed {frame_count} frames.\")\n",
    "    except IOError as e:\n",
    "        print(f\"IOError: {e}\")\n",
    "    except Exception as e:\n",
    "        print(f\"An unexpected error occurred: {e}\")\n",
    "    finally:\n",
    "        # Release resources in the finally block to ensure they are always executed\n",
    "        if 'cap' in locals() and cap.isOpened():\n",
    "            cap.release()\n",
    "        if 'out' in locals():\n",
    "            out.release()\n",
    "\n",
    "# Example usage\n",
    "input_video = 'test.mp4'\n",
    "output_video = ''\n",
    "top_left = (100, 50)  # Example coordinates\n",
    "bottom_right = (200, 150)  # Example coordinates\n",
    "\n",
    "draw_rectangle_on_video(input_video, output_video, top_left, bottom_right)\n"
   ]
  },
  {
   "cell_type": "code",
   "execution_count": null,
   "metadata": {},
   "outputs": [],
   "source": []
  }
 ],
 "metadata": {
  "kernelspec": {
   "display_name": "Python 3",
   "language": "python",
   "name": "python3"
  },
  "language_info": {
   "codemirror_mode": {
    "name": "ipython",
    "version": 3
   },
   "file_extension": ".py",
   "mimetype": "text/x-python",
   "name": "python",
   "nbconvert_exporter": "python",
   "pygments_lexer": "ipython3",
   "version": "3.10.6"
  }
 },
 "nbformat": 4,
 "nbformat_minor": 2
}
