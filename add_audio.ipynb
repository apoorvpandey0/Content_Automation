{
 "cells": [
  {
   "cell_type": "code",
   "execution_count": 1,
   "metadata": {},
   "outputs": [
    {
     "name": "stdout",
     "output_type": "stream",
     "text": [
      "Moviepy - Building video stage2/final_video_with_audio.mp4.\n",
      "MoviePy - Writing audio in final_video_with_audioTEMP_MPY_wvf_snd.mp4\n"
     ]
    },
    {
     "name": "stderr",
     "output_type": "stream",
     "text": [
      "                                                                    \r"
     ]
    },
    {
     "name": "stdout",
     "output_type": "stream",
     "text": [
      "MoviePy - Done.\n",
      "Moviepy - Writing video stage2/final_video_with_audio.mp4\n",
      "\n"
     ]
    },
    {
     "name": "stderr",
     "output_type": "stream",
     "text": [
      "                                                                \r"
     ]
    },
    {
     "name": "stdout",
     "output_type": "stream",
     "text": [
      "Moviepy - Done !\n",
      "Moviepy - video ready stage2/final_video_with_audio.mp4\n",
      "Successfully added audio to stage2/final_video_with_audio.mp4\n"
     ]
    }
   ],
   "source": [
    "from moviepy.editor import VideoFileClip\n",
    "\n",
    "def add_audio(original_video_path, edited_video_path, output_video_path):\n",
    "    \"\"\"\n",
    "    Adds the audio from the original video to the edited video.\n",
    "\n",
    "    Parameters:\n",
    "    - original_video_path: Path to the original video file.\n",
    "    - edited_video_path: Path to the edited video file without audio.\n",
    "    - output_video_path: Path where the output video with audio will be saved.\n",
    "    \"\"\"\n",
    "    try:\n",
    "        # Load the original and edited videos\n",
    "        original_video = VideoFileClip(original_video_path)\n",
    "        edited_video = VideoFileClip(edited_video_path)\n",
    "\n",
    "        # Combine the audio from the original video with the edited video\n",
    "        final_video = edited_video.set_audio(original_video.audio)\n",
    "\n",
    "        # Write the output video file\n",
    "        final_video.write_videofile(output_video_path, codec=\"libx264\", audio_codec=\"aac\")\n",
    "        \n",
    "        print(f\"Successfully added audio to {output_video_path}\")\n",
    "    except Exception as e:\n",
    "        print(f\"Error adding audio to video: {e}\")\n",
    "\n",
    "# Example usage:\n",
    "original_video_path = 'test.mp4'\n",
    "edited_video_path = 'stage1/test_output.mp4'\n",
    "output_video_path = 'stage2/final_video_with_audio.mp4'\n",
    "\n",
    "add_audio(original_video_path, edited_video_path, output_video_path)\n"
   ]
  },
  {
   "cell_type": "code",
   "execution_count": null,
   "metadata": {},
   "outputs": [],
   "source": []
  }
 ],
 "metadata": {
  "kernelspec": {
   "display_name": "Python 3",
   "language": "python",
   "name": "python3"
  },
  "language_info": {
   "codemirror_mode": {
    "name": "ipython",
    "version": 3
   },
   "file_extension": ".py",
   "mimetype": "text/x-python",
   "name": "python",
   "nbconvert_exporter": "python",
   "pygments_lexer": "ipython3",
   "version": "3.10.6"
  }
 },
 "nbformat": 4,
 "nbformat_minor": 2
}
