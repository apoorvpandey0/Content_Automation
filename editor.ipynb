{
 "cells": [
  {
   "cell_type": "code",
   "execution_count": null,
   "metadata": {},
   "outputs": [],
   "source": []
  },
  {
   "cell_type": "code",
   "execution_count": 44,
   "metadata": {},
   "outputs": [],
   "source": [
    "import easyocr\n",
    "import cv2\n",
    "import matplotlib.pyplot as plt\n",
    "from icecream import ic\n",
    "import os"
   ]
  },
  {
   "cell_type": "code",
   "execution_count": 45,
   "metadata": {},
   "outputs": [],
   "source": [
    "def get_ocr_results(image_path):\n",
    "    reader = easyocr.Reader(['en']) # this needs to run only once to load the model into memory\n",
    "    result = reader.readtext(image_path)\n",
    "    return result"
   ]
  },
  {
   "cell_type": "code",
   "execution_count": 46,
   "metadata": {},
   "outputs": [],
   "source": [
    "def get_coordinates_for_text(data, target_text):\n",
    "    matching_coordinates = []\n",
    "\n",
    "    for item in data:\n",
    "        coordinates, ocr_text, _ = item  # We ignore the confidence score here\n",
    "        if target_text.lower() in ocr_text.lower() :  # Case-insensitive comparison\n",
    "            matching_coordinates.append(coordinates)\n",
    "\n",
    "    return matching_coordinates"
   ]
  },
  {
   "cell_type": "code",
   "execution_count": 91,
   "metadata": {},
   "outputs": [],
   "source": [
    "import cv2\n",
    "import os\n",
    "\n",
    "def draw_rectangle_on_video(input_video_path, output_video_path, top_left_coordinate, bottom_right_coordinate,band_color):\n",
    "    \"\"\"\n",
    "    Draws a solid rectangle on a video with error handling.\n",
    "\n",
    "    Parameters:\n",
    "    - input_video_path: Path to the input video file.\n",
    "    - output_video_path: Path where the output video will be saved.\n",
    "    - top_left_coordinate: Tuple (x, y) for the top left coordinate of the rectangle.\n",
    "    - bottom_right_coordinate: Tuple (x, y) for the bottom right coordinate of the rectangle.\n",
    "    \"\"\"\n",
    "    try:\n",
    "        # Attempt to open the input video\n",
    "        cap = cv2.VideoCapture(input_video_path)\n",
    "        if not cap.isOpened():\n",
    "            raise IOError(f\"Could not open video file: {input_video_path}\")\n",
    "\n",
    "        # Get the video properties\n",
    "        frame_width = int(cap.get(cv2.CAP_PROP_FRAME_WIDTH))\n",
    "        frame_height = int(cap.get(cv2.CAP_PROP_FRAME_HEIGHT))\n",
    "        fps = cap.get(cv2.CAP_PROP_FPS)\n",
    "\n",
    "        # Generate output video path by appending '_output' before the file extension\n",
    "        # base_name= os.path.basename(input_video_path)\n",
    "        output_video_path = f\"{output_video_path}.mp4\"\n",
    "        ic(output_video_path)\n",
    "\n",
    "        # Define the codec and create a VideoWriter object\n",
    "        out = cv2.VideoWriter(output_video_path, cv2.VideoWriter_fourcc(*'mp4v'), fps, (frame_width, frame_height))\n",
    "\n",
    "        frame_count = 0  # To count the number of frames processed\n",
    "\n",
    "        while True:\n",
    "            ret, frame = cap.read()\n",
    "            if not ret:\n",
    "                break\n",
    "\n",
    "            # Draw a solid rectangle on the frame\n",
    "            cv2.rectangle(frame, top_left_coordinate, bottom_right_coordinate, band_color, -1)\n",
    "\n",
    "            # Write the frame into the file\n",
    "            out.write(frame)\n",
    "            frame_count += 1\n",
    "\n",
    "        print(f\"Processed {frame_count} frames.\")\n",
    "    except IOError as e:\n",
    "        print(f\"IOError: {e}\")\n",
    "    except Exception as e:\n",
    "        print(f\"An unexpected error occurred: {e}\")\n",
    "    finally:\n",
    "        # Release resources in the finally block to ensure they are always executed\n",
    "        if 'cap' in locals() and cap.isOpened():\n",
    "            cap.release()\n",
    "        if 'out' in locals():\n",
    "            out.release()"
   ]
  },
  {
   "cell_type": "code",
   "execution_count": 79,
   "metadata": {},
   "outputs": [],
   "source": [
    "def get_mid_frame(video_path,output_path = '',save_path=False):\n",
    "    # Read the Video (Change the filename as per your file)\n",
    "    cap = cv2.VideoCapture(video_path)\n",
    "\n",
    "    # Get the total number of frames\n",
    "    length = int(cap.get(cv2.CAP_PROP_FRAME_COUNT))\n",
    "    half_point = length//2 # Approximately half if number of frames are odd\n",
    "\n",
    "    # Set the reader to the given frame number (half_point)\n",
    "    cap.set(cv2.CAP_PROP_POS_FRAMES, half_point)\n",
    "\n",
    "    # Read the frame\n",
    "    ret, frame = cap.read()\n",
    "\n",
    "    base_name = os.path.basename(video_path)\n",
    "    print(base_name)\n",
    "    if save_path: cv2.imwrite(f\"{output_path}{base_name}_mid.png\", frame)\n",
    "\n",
    "    # Release the file pointer\n",
    "    cap.release()\n",
    "    return frame\n",
    "# mid_frame = get_mid_frame(os.path.join('downloads','10_Parents Built a Beautiful Bedroom For Son & Daughter  3d Animation By The Stories Time  shorts.mp4'),output_path='',save_path=True)\n",
    "# mid_frame = get_mid_frame('test.mp4',output_path='mid_frames/',save_path=True)\n",
    "# mid_frame"
   ]
  },
  {
   "cell_type": "code",
   "execution_count": null,
   "metadata": {},
   "outputs": [],
   "source": []
  },
  {
   "cell_type": "markdown",
   "metadata": {},
   "source": [
    "### Actual code"
   ]
  },
  {
   "cell_type": "code",
   "execution_count": 80,
   "metadata": {},
   "outputs": [
    {
     "name": "stdout",
     "output_type": "stream",
     "text": [
      "10_Parents Built a Beautiful Bedroom For Son & Daughter  3d Animation By The Stories Time  shorts.mp4\n"
     ]
    }
   ],
   "source": [
    "mid_frame = get_mid_frame(r'downloads/10_Parents Built a Beautiful Bedroom For Son & Daughter  3d Animation By The Stories Time  shorts.mp4',output_path='mid_frames/',save_path=True)"
   ]
  },
  {
   "cell_type": "code",
   "execution_count": 60,
   "metadata": {},
   "outputs": [
    {
     "name": "stderr",
     "output_type": "stream",
     "text": [
      "Neither CUDA nor MPS are available - defaulting to CPU. Note: This module is much faster with a GPU.\n"
     ]
    },
    {
     "data": {
      "text/plain": [
       "[([[61, 55], [109, 55], [109, 69], [61, 69]], 'BEST', 0.9950381817750114),\n",
       " ([[28, 64], [136, 64], [136, 88], [28, 88]], 'INDIAN', 0.9313570263730901),\n",
       " ([[46, 86], [78, 86], [78, 94], [46, 94]], 'ILNE', 0.12265399098396301),\n",
       " ([[81, 83], [135, 83], [135, 97], [81, 97]], 'QAMINO', 0.46622896014818577),\n",
       " ([[47, 95], [119, 95], [119, 107], [47, 107]],\n",
       "  'PLAIDEM',\n",
       "  0.09117240543804958),\n",
       " ([[262, 1058], [462, 1058], [462, 1088], [262, 1088]],\n",
       "  'The Stories Time',\n",
       "  0.9996257111612783)]"
      ]
     },
     "execution_count": 60,
     "metadata": {},
     "output_type": "execute_result"
    }
   ],
   "source": [
    "ocr_results = get_ocr_results(mid_frame)\n",
    "ocr_results"
   ]
  },
  {
   "cell_type": "code",
   "execution_count": 61,
   "metadata": {},
   "outputs": [
    {
     "data": {
      "text/plain": [
       "[[[262, 1058], [462, 1058], [462, 1088], [262, 1088]]]"
      ]
     },
     "execution_count": 61,
     "metadata": {},
     "output_type": "execute_result"
    }
   ],
   "source": [
    "matches = get_coordinates_for_text(ocr_results,'stories')\n",
    "matches"
   ]
  },
  {
   "cell_type": "code",
   "execution_count": 52,
   "metadata": {},
   "outputs": [
    {
     "name": "stderr",
     "output_type": "stream",
     "text": [
      "ic| color: array([ 70,  80, 118], dtype=uint8)\n"
     ]
    }
   ],
   "source": [
    "def get_mid_band_color(image,top_left):\n",
    "    color = (image[top_left[1],top_left[0]])\n",
    "    blue,green,red = int(color[0]),int(color[1]),int(color[2])\n",
    "    ic(color)\n",
    "    return color\n",
    "\n",
    "band_color = get_mid_band_color(mid_frame,[262, 1058])"
   ]
  },
  {
   "cell_type": "code",
   "execution_count": 53,
   "metadata": {},
   "outputs": [
    {
     "name": "stderr",
     "output_type": "stream",
     "text": [
      "ic| top_left: [262, 1058]\n",
      "ic| top_left:"
     ]
    },
    {
     "name": "stderr",
     "output_type": "stream",
     "text": [
      " [262, 1043]\n"
     ]
    },
    {
     "data": {
      "text/plain": [
       "[262, 1043]"
      ]
     },
     "execution_count": 53,
     "metadata": {},
     "output_type": "execute_result"
    }
   ],
   "source": [
    "top_left = matches[0][0]\n",
    "ic(top_left)\n",
    "bottom_right = matches[0][2]\n",
    "\n",
    "top_left[1]-=15\n",
    "bottom_right[1]+=15\n",
    "ic(top_left)"
   ]
  },
  {
   "cell_type": "code",
   "execution_count": 95,
   "metadata": {},
   "outputs": [
    {
     "name": "stderr",
     "output_type": "stream",
     "text": [
      "ic| output_video_path: 'stage1/test_output.mp4'\n"
     ]
    },
    {
     "name": "stdout",
     "output_type": "stream",
     "text": [
      "Processed 1318 frames.\n"
     ]
    }
   ],
   "source": [
    "draw_rectangle_on_video('test.mp4','stage1/test_output',top_left_coordinate=top_left,bottom_right_coordinate=bottom_right,band_color = [ 70,  80, 118])"
   ]
  },
  {
   "cell_type": "code",
   "execution_count": null,
   "metadata": {},
   "outputs": [],
   "source": []
  },
  {
   "cell_type": "markdown",
   "metadata": {},
   "source": [
    "## Loop"
   ]
  },
  {
   "cell_type": "code",
   "execution_count": 55,
   "metadata": {},
   "outputs": [],
   "source": [
    "filenames = next(os.walk('downloads'), (None, None, []))[2]  "
   ]
  },
  {
   "cell_type": "code",
   "execution_count": 99,
   "metadata": {},
   "outputs": [],
   "source": [
    "filenames_s = sorted(filenames, key=lambda x: int(x.split('_')[0]))"
   ]
  },
  {
   "cell_type": "code",
   "execution_count": 101,
   "metadata": {},
   "outputs": [
    {
     "name": "stderr",
     "output_type": "stream",
     "text": [
      "ic| filepath: 'downloads\\\\74_Turn a Simple Room Into a Luxury Room in 3d Animation shorts.mp4'\n",
      "ic| v_name"
     ]
    },
    {
     "name": "stderr",
     "output_type": "stream",
     "text": [
      ": '74_Turn a Simple Room Into a Luxury Room in 3D home redesign animations_stage1'\n",
      "Neither CUDA nor MPS are available - defaulting to CPU. Note: This module is much faster with a GPU.\n"
     ]
    },
    {
     "name": "stdout",
     "output_type": "stream",
     "text": [
      "74_Turn a Simple Room Into a Luxury Room in 3d Animation shorts.mp4\n"
     ]
    },
    {
     "name": "stderr",
     "output_type": "stream",
     "text": [
      "ic| color: array([137, 165, 190], dtype=uint8)\n",
      "ic| output_video_path: ('stage1/74_Turn a Simple Room Into a Luxury Room in 3D home redesign '\n",
      "                        'animations_stage1.mp4')\n"
     ]
    },
    {
     "name": "stdout",
     "output_type": "stream",
     "text": [
      "Processed 1690 frames.\n"
     ]
    }
   ],
   "source": [
    "for raw_name in list(reversed(filenames_s))[:1]:\n",
    "    v_name = raw_name.split('3d')[0].strip()+' 3D home redesign animations'+'_stage1'\n",
    "    filepath = os.path.join('downloads',raw_name)\n",
    "    ic(filepath)\n",
    "    ic(v_name)\n",
    "    mid_frame = get_mid_frame(filepath,output_path='mid_frames/',save_path=True)\n",
    "    ocr_results = get_ocr_results(mid_frame)\n",
    "    matches = get_coordinates_for_text(ocr_results,'stories')\n",
    "    band_color = get_mid_band_color(mid_frame,[262, 1058])\n",
    "    top_left = matches[0][0]\n",
    "    bottom_right = matches[0][2]\n",
    "    top_left[1]-=15\n",
    "    bottom_right[1]+=15\n",
    "    draw_rectangle_on_video(filepath,'stage1/'+v_name,top_left_coordinate=top_left,bottom_right_coordinate=bottom_right,band_color = [ 70,  80, 118])"
   ]
  },
  {
   "cell_type": "code",
   "execution_count": null,
   "metadata": {},
   "outputs": [],
   "source": []
  }
 ],
 "metadata": {
  "kernelspec": {
   "display_name": "Python 3",
   "language": "python",
   "name": "python3"
  },
  "language_info": {
   "codemirror_mode": {
    "name": "ipython",
    "version": 3
   },
   "file_extension": ".py",
   "mimetype": "text/x-python",
   "name": "python",
   "nbconvert_exporter": "python",
   "pygments_lexer": "ipython3",
   "version": "3.10.6"
  }
 },
 "nbformat": 4,
 "nbformat_minor": 2
}
