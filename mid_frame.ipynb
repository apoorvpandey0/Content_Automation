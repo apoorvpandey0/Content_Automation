{
 "cells": [
  {
   "cell_type": "code",
   "execution_count": 3,
   "metadata": {},
   "outputs": [
    {
     "data": {
      "text/plain": [
       "array([[[174, 179, 190],\n",
       "        [169, 174, 185],\n",
       "        [169, 174, 185],\n",
       "        ...,\n",
       "        [137, 148, 163],\n",
       "        [137, 148, 163],\n",
       "        [137, 148, 163]],\n",
       "\n",
       "       [[174, 179, 190],\n",
       "        [169, 174, 185],\n",
       "        [169, 174, 185],\n",
       "        ...,\n",
       "        [137, 148, 163],\n",
       "        [137, 148, 163],\n",
       "        [137, 148, 163]],\n",
       "\n",
       "       [[174, 179, 190],\n",
       "        [169, 174, 185],\n",
       "        [169, 174, 185],\n",
       "        ...,\n",
       "        [137, 148, 163],\n",
       "        [137, 148, 163],\n",
       "        [137, 148, 163]],\n",
       "\n",
       "       ...,\n",
       "\n",
       "       [[139, 166, 187],\n",
       "        [132, 159, 180],\n",
       "        [133, 160, 181],\n",
       "        ...,\n",
       "        [134, 163, 186],\n",
       "        [134, 163, 186],\n",
       "        [134, 163, 186]],\n",
       "\n",
       "       [[136, 163, 184],\n",
       "        [132, 159, 180],\n",
       "        [142, 169, 190],\n",
       "        ...,\n",
       "        [134, 163, 186],\n",
       "        [134, 163, 186],\n",
       "        [134, 163, 186]],\n",
       "\n",
       "       [[142, 169, 190],\n",
       "        [139, 166, 187],\n",
       "        [148, 175, 196],\n",
       "        ...,\n",
       "        [134, 163, 186],\n",
       "        [134, 163, 186],\n",
       "        [134, 163, 186]]], dtype=uint8)"
      ]
     },
     "execution_count": 3,
     "metadata": {},
     "output_type": "execute_result"
    }
   ],
   "source": [
    "import cv2\n",
    "\n",
    "\n",
    "def get_mid_frame(video_path,save_path=False):\n",
    "    # Read the Video (Change the filename as per your file)\n",
    "    cap = cv2.VideoCapture(video_path)\n",
    "\n",
    "    # Get the total number of frames\n",
    "    length = int(cap.get(cv2.CAP_PROP_FRAME_COUNT))\n",
    "    half_point = length//2 # Approximately half if number of frames are odd\n",
    "\n",
    "    # Set the reader to the given frame number (half_point)\n",
    "    cap.set(cv2.CAP_PROP_POS_FRAMES, half_point)\n",
    "\n",
    "    # Read the frame\n",
    "    ret, frame = cap.read()\n",
    "\n",
    "    if save_path: cv2.imwrite(\"mid2.png\", frame)\n",
    "\n",
    "    # Release the file pointer\n",
    "    cap.release()\n",
    "    return frame\n",
    "\n",
    "get_mid_frame(\"test.mp4\",True)"
   ]
  },
  {
   "cell_type": "code",
   "execution_count": 3,
   "metadata": {},
   "outputs": [
    {
     "data": {
      "text/plain": [
       "True"
      ]
     },
     "execution_count": 3,
     "metadata": {},
     "output_type": "execute_result"
    }
   ],
   "source": []
  },
  {
   "cell_type": "code",
   "execution_count": null,
   "metadata": {},
   "outputs": [],
   "source": []
  }
 ],
 "metadata": {
  "kernelspec": {
   "display_name": "Python 3",
   "language": "python",
   "name": "python3"
  },
  "language_info": {
   "codemirror_mode": {
    "name": "ipython",
    "version": 3
   },
   "file_extension": ".py",
   "mimetype": "text/x-python",
   "name": "python",
   "nbconvert_exporter": "python",
   "pygments_lexer": "ipython3",
   "version": "3.10.6"
  }
 },
 "nbformat": 4,
 "nbformat_minor": 2
}
